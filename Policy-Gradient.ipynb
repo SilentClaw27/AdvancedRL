{
 "cells": [
  {
   "cell_type": "code",
   "execution_count": 1,
   "metadata": {},
   "outputs": [],
   "source": [
    "import gymnasium as gym\n",
    "\n",
    "import torch\n",
    "import torch.nn as nn\n",
    "import torch.nn.functional as F\n",
    "from torch.distributions.categorical import Categorical\n",
    "from torch.optim import AdamW\n",
    "import numpy as np\n",
    "import random\n",
    "from collections import deque\n",
    "from torch.utils.data import IterableDataset\n",
    "from torch.utils.data import DataLoader\n",
    "import warnings\n",
    "\n",
    "import matplotlib.pyplot as plt\n",
    "warnings.filterwarnings(\"ignore\")"
   ]
  },
  {
   "cell_type": "code",
   "execution_count": 2,
   "metadata": {},
   "outputs": [],
   "source": [
    "from gymnasium.spaces import Discrete, Box\n",
    "from gymnasium.wrappers import NormalizeObservation, NormalizeReward"
   ]
  },
  {
   "cell_type": "code",
   "execution_count": 3,
   "metadata": {},
   "outputs": [],
   "source": [
    "class Data(IterableDataset):\n",
    "    def __init__(self, env, policy, steps, gamma):\n",
    "        self.env = env\n",
    "        self.policy = policy\n",
    "        self.steps = steps\n",
    "        self.gamma = gamma\n",
    "        self.obs, self.info = env.reset()\n",
    "\n",
    "\n",
    "    def __iter__(self):\n",
    "        transitions = []\n",
    "\n",
    "        for step in range(self.steps):\n",
    "            with torch.no_grad():\n",
    "                action = self.policy(torch.as_tensor(self.obs, dtype=torch.float32))\n",
    "            action = action.multinomial(1).cpu().numpy()\n",
    "            next_obs, reward, terminated, truncated , info = self.env.step(action.flatten())\n",
    "            transitions.append((self.obs, action, reward, terminated))\n",
    "            self.obs = next_obs\n",
    "\n",
    "        obs_b, action_b, reward_b, done_b = map(np.stack, zip(*transitions))\n",
    "\n",
    "        running_return = np.zeros(self.env.num_envs, dtype=np.float32)\n",
    "        return_b = np.zeros_like(reward_b)\n",
    "\n",
    "        for row in range(self.steps-1,-1,-1):\n",
    "            running_return = reward_b[row] + (1-done_b[row]) * self.gamma * running_return\n",
    "            return_b[row] = running_return\n",
    "\n",
    "        num_samples = self.env.num_envs * self.steps\n",
    "        obs_b = obs_b.reshape(num_samples, -1)\n",
    "        action_b = action_b.reshape(num_samples, -1)\n",
    "        return_b = return_b.reshape(num_samples, -1)\n",
    "\n",
    "        return_b = (return_b - np.mean(return_b)) / np.std(return_b + 1e-06)\n",
    "\n",
    "        idx = list(range(num_samples))\n",
    "        random.shuffle(idx)\n",
    "\n",
    "        for i in idx:\n",
    "            yield obs_b[i], action_b[i], return_b[i]"
   ]
  },
  {
   "cell_type": "code",
   "execution_count": 4,
   "metadata": {},
   "outputs": [],
   "source": [
    "class PolicyNet(nn.Module):\n",
    "    def __init__(self, input_size, hidden_units=64, output_size=2):\n",
    "        super(PolicyNet, self).__init__()\n",
    "        self.model = nn.Sequential(\n",
    "            nn.Linear(input_size, hidden_units),\n",
    "            nn.ReLU(),\n",
    "            nn.Linear(hidden_units, hidden_units),\n",
    "            nn.ReLU(),\n",
    "            nn.Linear(hidden_units, output_size),\n",
    "            nn.Softmax(dim=-1)\n",
    "        )\n",
    "        \n",
    "    def forward(self, x):\n",
    "        probs = self.model(x)\n",
    "        return probs\n",
    "\n",
    "    def __call__(self, x):\n",
    "        out = self.forward(x)\n",
    "        return out"
   ]
  },
  {
   "cell_type": "code",
   "execution_count": 5,
   "metadata": {},
   "outputs": [],
   "source": [
    "def initialize_weights(m):\n",
    "  if isinstance(m, nn.Conv2d):\n",
    "      nn.init.kaiming_uniform_(m.weight.data,nonlinearity='relu')\n",
    "      if m.bias is not None:\n",
    "          nn.init.constant_(m.bias.data, 0)\n",
    "  elif isinstance(m, nn.BatchNorm2d):\n",
    "      nn.init.constant_(m.weight.data, 1)\n",
    "      nn.init.constant_(m.bias.data, 0)\n",
    "  elif isinstance(m, nn.Linear):\n",
    "      nn.init.kaiming_uniform_(m.weight.data)\n",
    "      nn.init.constant_(m.bias.data, 0)"
   ]
  },
  {
   "cell_type": "code",
   "execution_count": 8,
   "metadata": {},
   "outputs": [],
   "source": [
    "env = gym.vector.make('LunarLander-v2', num_envs=5, asynchronous=False)\n",
    "\n",
    "obs_dim = env.single_observation_space.shape[0]\n",
    "n_acts = env.single_action_space.n\n",
    "\n",
    "# make core of policy network\n",
    "hidden_sizes = 32\n",
    "logits_net = PolicyNet(obs_dim, hidden_sizes, n_acts)\n",
    "logits_net.apply(initialize_weights)\n",
    "# make optimizer\n",
    "optimizer = AdamW(logits_net.parameters(), lr=0.0003)\n",
    "gamma = 0.99"
   ]
  },
  {
   "cell_type": "code",
   "execution_count": 9,
   "metadata": {},
   "outputs": [],
   "source": [
    "# make function to compute action distribution\n",
    "def get_policy(obs):\n",
    "    probs = logits_net(obs)\n",
    "    return Categorical(probs=probs)\n",
    "\n",
    "\n",
    "# make action selection function (outputs int actions, sampled from policy)\n",
    "def get_action(obs):\n",
    "    return get_policy(obs).sample().item()\n",
    "\n",
    "\n",
    "# make loss function whose gradient, for the right data, is policy gradient\n",
    "def compute_loss(obs, act, weights):\n",
    "    probs = logits_net(obs)\n",
    "    log_probs = torch.log(probs + 1e-6)\n",
    "    action_log_prob = log_probs.gather(1, act)\n",
    "    return -(action_log_prob * weights).mean()"
   ]
  },
  {
   "cell_type": "code",
   "execution_count": 10,
   "metadata": {},
   "outputs": [],
   "source": [
    "data = Data(env, logits_net, 128, 0.99)\n",
    "loader = DataLoader(data, batch_size=24)\n",
    "\n",
    "def train_one_epoch():\n",
    "    # make some empty lists for logging.\n",
    "    batch_obs = []          # for observations\n",
    "    batch_acts = []         # for actions\n",
    "    batch_weights = []      # for R(tau) weighting in policy gradient\n",
    "\n",
    "    # collect experience by acting in the environment with current policy\n",
    "    \n",
    "    for batch in loader:\n",
    "        with torch.no_grad():\n",
    "            batch_obs, batch_acts, batch_weights = batch\n",
    "\n",
    "        # take a single policy gradient update step\n",
    "        optimizer.zero_grad()\n",
    "        batch_loss = compute_loss(obs=batch_obs, act=batch_acts, weights=batch_weights)\n",
    "        batch_loss.backward()\n",
    "        optimizer.step()\n",
    "    return 0"
   ]
  },
  {
   "cell_type": "code",
   "execution_count": 11,
   "metadata": {},
   "outputs": [],
   "source": [
    "def run_test(trajectories, policy):\n",
    "    env2 = gym.make('LunarLander-v2')\n",
    "    scores = []\n",
    "    for trajectory in range(trajectories):\n",
    "        trajectory_return = 0\n",
    "        obs, info = env2.reset()\n",
    "        terminated = False\n",
    "        truncated = False\n",
    "        while not terminated and not truncated:\n",
    "            action = get_action(torch.as_tensor(obs, dtype=torch.float32))\n",
    "            next_obs, reward, terminated, truncated, _ = env2.step(action)\n",
    "            obs = next_obs            \n",
    "            trajectory_return += reward\n",
    "        scores.append(trajectory_return)\n",
    "    del env2\n",
    "    return np.mean(scores)"
   ]
  },
  {
   "cell_type": "code",
   "execution_count": 12,
   "metadata": {},
   "outputs": [
    {
     "name": "stdout",
     "output_type": "stream",
     "text": [
      "Epoch: 50  Score: -249.3447709883457\n",
      "Epoch: 100  Score: -126.38090866286764\n",
      "Epoch: 150  Score: -97.47196979470036\n",
      "Epoch: 200  Score: -86.12487559916019\n",
      "Epoch: 250  Score: -76.02195904041153\n",
      "Epoch: 300  Score: -48.57492429852917\n",
      "Epoch: 350  Score: -29.718564708436134\n",
      "Epoch: 400  Score: -22.808166034863852\n",
      "Epoch: 450  Score: -1.7326199725201503\n",
      "Epoch: 500  Score: 53.616117742952426\n",
      "Epoch: 550  Score: 69.67769503611424\n",
      "Epoch: 600  Score: 91.15599089193587\n",
      "Epoch: 650  Score: 125.63974301962253\n",
      "Epoch: 700  Score: 158.40737304193502\n",
      "Epoch: 750  Score: 151.10835139527626\n",
      "Epoch: 800  Score: 159.8271761141791\n",
      "Epoch: 850  Score: 177.31939389029517\n",
      "Epoch: 900  Score: 180.6287464391015\n",
      "Epoch: 950  Score: 162.4798064104415\n",
      "Solved! Epoch: 986  Score: 195.22948625046286\n"
     ]
    }
   ],
   "source": [
    "scores = deque(maxlen=50)\n",
    "graph_results = []\n",
    "\n",
    "for epoch in range(1000):\n",
    "    train_one_epoch()\n",
    "    score = run_test(5, logits_net)\n",
    "    scores.append(score)\n",
    "    graph_results.append(score)\n",
    "\n",
    "    if epoch>1 and epoch % 50 == 0:\n",
    "        print(f'Epoch: {epoch}  Score: {np.mean(scores)}' )\n",
    "\n",
    "    if np.mean(scores) >= 195:\n",
    "        print(f'Solved! Epoch: {epoch}  Score: {np.mean(scores)}')\n",
    "        break"
   ]
  },
  {
   "cell_type": "code",
   "execution_count": 13,
   "metadata": {},
   "outputs": [
    {
     "data": {
      "image/png": "[encoded data removed]",
      "text/plain": [
       "<Figure size 640x480 with 1 Axes>"
      ]
     },
     "metadata": {},
     "output_type": "display_data"
    }
   ],
   "source": [
    "x = range(1,epoch+2)\n",
    "y = graph_results\n",
    "\n",
    "plt.plot(x, y)\n",
    "plt.xlabel('Epochs')\n",
    "plt.ylabel('Results')\n",
    "plt.show()"
   ]
  }
 ],
 "metadata": {
  "kernelspec": {
   "display_name": "base",
   "language": "python",
   "name": "python3"
  },
  "language_info": {
   "codemirror_mode": {
    "name": "ipython",
    "version": 3
   },
   "file_extension": ".py",
   "mimetype": "text/x-python",
   "name": "python",
   "nbconvert_exporter": "python",
   "pygments_lexer": "ipython3",
   "version": "3.9.16 (main, Jan 11 2023, 16:16:36) [MSC v.1916 64 bit (AMD64)]"
  },
  "orig_nbformat": 4,
  "vscode": {
   "interpreter": {
    "hash": "e60e170a43f951995987d5f861e903e8cddcd13fd622fefc94b6b25d6f35233f"
   }
  }
 },
 "nbformat": 4,
 "nbformat_minor": 2
}
